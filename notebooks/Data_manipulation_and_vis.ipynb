{
 "cells": [
  {
   "cell_type": "markdown",
   "id": "90e8e705",
   "metadata": {},
   "source": [
    "# Climate Data – A hands-on python course\n",
    "Author: Pedro Herrera Lormendez (pedrolormendez@gmail.com)"
   ]
  },
  {
   "cell_type": "markdown",
   "id": "f4723ecb",
   "metadata": {},
   "source": [
    "## Data manipulation and visualisation in Python"
   ]
  },
  {
   "cell_type": "code",
   "execution_count": null,
   "id": "33114a2f",
   "metadata": {},
   "outputs": [],
   "source": []
  }
 ],
 "metadata": {
  "kernelspec": {
   "display_name": "Python 3 (ipykernel)",
   "language": "python",
   "name": "python3"
  },
  "language_info": {
   "codemirror_mode": {
    "name": "ipython",
    "version": 3
   },
   "file_extension": ".py",
   "mimetype": "text/x-python",
   "name": "python",
   "nbconvert_exporter": "python",
   "pygments_lexer": "ipython3",
   "version": "3.7.0"
  }
 },
 "nbformat": 4,
 "nbformat_minor": 5
}
