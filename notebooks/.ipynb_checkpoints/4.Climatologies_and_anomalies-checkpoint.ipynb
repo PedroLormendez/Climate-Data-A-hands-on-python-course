{
 "cells": [
  {
   "cell_type": "markdown",
   "id": "6de8f3a1",
   "metadata": {},
   "source": [
    "# Climate Data – A hands-on python course\n",
    "Author: Pedro Herrera Lormendez (pedrolormendez@gmail.com)"
   ]
  },
  {
   "cell_type": "markdown",
   "id": "43703d6b",
   "metadata": {},
   "source": [
    "## Computing climatologies and anomalies\n",
    "Climatology,refers to the study and analysis of the climate, typically over extended periods. \"A climatology\" in a data context, usually means a dataset or analysis representing the average or typical state of the climate system over a specified period. This period is often long enough to smooth out year-to-year variations, leaving only the longer-term, more stable patterns.\n",
    "\n",
    "* Climatologies are commonly collected and computed over a 30-year period, as recommended by the World Meteorological Organization (WMO). \n",
    "* A climatology often involves computing statistical averages of a climate variable over the chose period.\n",
    "Climatologies are used as a baseline to study current climate conditions, to identify climate anomalies and trends, and in climate modelling and forecasting.\n",
    "* Climatologies are critical in understanding historical climate patterns, which are essential for predicting future climatic changes and for various applications in agriculture, environmental planning, and disaster managment.\n",
    "\n",
    "Visualisations:\n",
    "* [Global temperature distribution](https://climvis.org/content/anim/ltm/globe/t2m_globe_1991-2020_ltm/t2m_globe_1991-2020_ltm.html)\n",
    "* [Global precipitation rate](https://climvis.org/content/anim/ltm/globe/tp_globe_1991-2020_ltm/tp_globe_1991-2020_ltm.html)\n",
    "* [P - E](https://climvis.org/content/anim/ltm/globe/pme_globe_1991-2020_ltm/pme_globe_1991-2020_ltm.html)\n",
    "* [More animations](https://climvis.org/animations.html)"
   ]
  },
  {
   "cell_type": "markdown",
   "id": "8ad39d8d",
   "metadata": {},
   "source": [
    "### Computing the seasonal mean temperature over Europe\n",
    "We will use two datasets from the ERA5 reanalysis of monthly mean temperature and precipitation over Europe. \n",
    "* [t2m file](https://drive.google.com/file/d/1-JZirUHXP7sDGIUoFG_h8znRn2rfKT8m/view?usp=sharing)\n",
    "* [rainfall file](https://drive.google.com/file/d/1ErVv5A0DNhDQKvmVYbUNUAIGysV-p6sd/view?usp=sharing)"
   ]
  },
  {
   "cell_type": "code",
   "execution_count": 1,
   "id": "9ff20b4f",
   "metadata": {},
   "outputs": [],
   "source": [
    "# importing the neccessary modules\n",
    "import sys\n",
    "import os\n",
    "import xarray as xr\n",
    "import numpy as np\n",
    "import matplotlib.pyplot as plt\n",
    "import cartopy.crs as ccrs\n",
    "# Assuming your Jupyter notebook is in the 'notebooks' directory\n",
    "sys.path.append(os.path.abspath('../help_code'))\n",
    "import tools"
   ]
  },
  {
   "cell_type": "code",
   "execution_count": 89,
   "id": "ca8a90f2",
   "metadata": {},
   "outputs": [],
   "source": [
    "# Reading the file\n"
   ]
  },
  {
   "cell_type": "code",
   "execution_count": null,
   "id": "def0b656",
   "metadata": {},
   "outputs": [],
   "source": []
  },
  {
   "cell_type": "code",
   "execution_count": 90,
   "id": "37f60f97",
   "metadata": {},
   "outputs": [],
   "source": [
    "# Reading the temperature variable\n",
    "# To later avoid issues with too short seasons\n",
    "\n",
    "# Converting to ºC\n",
    "# Doing a quick visualization of the data\n"
   ]
  },
  {
   "cell_type": "markdown",
   "id": "95ef206e",
   "metadata": {},
   "source": [
    "The most recent climate period in use corresponds to the 30-year period of 1991 - 2020. Let's compute the climatological seasonal mean (DJF, MAM, JJA, SON) value of tempeature for this period."
   ]
  },
  {
   "cell_type": "code",
   "execution_count": 91,
   "id": "f3dad0d5",
   "metadata": {},
   "outputs": [],
   "source": [
    "# Slicing the data to the 1991-02 - 2020-11 time period\n",
    "# Use the DataArray.sel() function\n"
   ]
  },
  {
   "cell_type": "markdown",
   "id": "21246bed",
   "metadata": {},
   "source": [
    "In order to compute the mean value of temperature per season we will employ the [DataArray.groupby()](https://docs.xarray.dev/en/stable/generated/xarray.DataArray.groupby.html) function. The 'groupby' function in Xarray is a powerful tool for organizing and summarising data in multi-dimensional arrays. It allows to group a datasets based on time (like months, years, or seasons), geographical locations, or any other dimension or variable in the dataset. After grouping the data, you can apply various functions to each group (like sum, mean, maximum, minimum) which help in summarising the data in each group."
   ]
  },
  {
   "cell_type": "code",
   "execution_count": 92,
   "id": "9d7b86cd",
   "metadata": {},
   "outputs": [],
   "source": [
    "# DataArray.groupby().mean()\n"
   ]
  },
  {
   "cell_type": "code",
   "execution_count": null,
   "id": "bacb1ace",
   "metadata": {},
   "outputs": [],
   "source": []
  },
  {
   "cell_type": "markdown",
   "id": "82d17311",
   "metadata": {},
   "source": [
    "#### Practice time 💻\n",
    "<div style=\"background-color:lightgreen; padding:10px\">\n",
    "    Compute the European mean seasonal temperature .\n",
    "    <ul>\n",
    "        <li>Crop to the area of -10 to 35ºE and 35 to 70ºN</li>\n",
    "        <li>Compute the spatial mean value</li>\n",
    "        <li>Plot a time series of the seasonal mean value of EU temperature</li>\n",
    "        <li>Add appropiate axis labels and title</li>\n",
    "    </ul>\n",
    "</div>"
   ]
  },
  {
   "cell_type": "code",
   "execution_count": 93,
   "id": "dc7fb8a0",
   "metadata": {},
   "outputs": [],
   "source": [
    "# Re-aranging \"season\" dimension to DJF, MAM, JJA, SON\n"
   ]
  },
  {
   "cell_type": "code",
   "execution_count": null,
   "id": "40f9d331",
   "metadata": {},
   "outputs": [],
   "source": []
  },
  {
   "cell_type": "markdown",
   "id": "f7f92dd1",
   "metadata": {},
   "source": [
    "### Computing the seasonal anomaly\n",
    "A climatological anomaly of temperature, often referred to simply as temperature anomaly, is a measure of how the temperature of a specific place and time deviated from some reference temperature (usually the climatological value over the 30-year baseline period).\n",
    "\n",
    "$Temperature Anomaly = \\text{Observed Temperature} - \\text{Baseline Temperature}\n",
    "$"
   ]
  },
  {
   "cell_type": "code",
   "execution_count": null,
   "id": "4f6b71a0",
   "metadata": {},
   "outputs": [],
   "source": []
  },
  {
   "cell_type": "markdown",
   "id": "10b1b489",
   "metadata": {},
   "source": [
    "The [DataArray.resample()](https://docs.xarray.dev/en/latest/generated/xarray.DataArray.resample.html) function allows us to (among other functions) to aggregate our data by seasons using the \"QS\" argument. 'QS-Dec' indicates that the data is resample into quaterly intervals that start in December. Here's what it entails:\n",
    "\n",
    "1. Quarterly Intervals: Your data will be divided into periods of three months each.\n",
    "\n",
    "2. Starting in December: The first quarter starts in December. This sets the beginning of your quarters.\n",
    "\n",
    "For 'QS-DEC', the quarters (or seasons) will be structured as follows:\n",
    "\n",
    "* Q1: December, January, February\n",
    "* Q2: March, April, May\n",
    "* Q3: June, July, August\n",
    "* Q4: September, October, November"
   ]
  },
  {
   "cell_type": "code",
   "execution_count": 94,
   "id": "e88ead52",
   "metadata": {},
   "outputs": [],
   "source": [
    "# Computing the anomalies\n"
   ]
  },
  {
   "cell_type": "code",
   "execution_count": null,
   "id": "fdc188ba",
   "metadata": {},
   "outputs": [],
   "source": []
  },
  {
   "cell_type": "markdown",
   "id": "41bdeaf2",
   "metadata": {},
   "source": [
    "#### Practice time 💻\n",
    "<div style=\"background-color:lightgreen; padding:10px\">\n",
    "    Compute the European yearly temperature anomalies.\n",
    "    <ul>\n",
    "        <li>1. Compute the yearly climatology average value of temperature over the 1991-2020 baseline period</li>\n",
    "        <li>2. Use the .resample function to aggreate your data by year and compute the mean</li>\n",
    "        <li>3. Compute the yearly anomalies of the temperature data</li>\n",
    "        <li>4. Plot a time series of the yearly mean temperature anolies for EU for 1940 to 2022</li>\n",
    "    </ul>\n",
    "</div>"
   ]
  },
  {
   "cell_type": "code",
   "execution_count": null,
   "id": "8601dac8",
   "metadata": {},
   "outputs": [],
   "source": []
  }
 ],
 "metadata": {
  "kernelspec": {
   "display_name": "Python 3 (ipykernel)",
   "language": "python",
   "name": "python3"
  },
  "language_info": {
   "codemirror_mode": {
    "name": "ipython",
    "version": 3
   },
   "file_extension": ".py",
   "mimetype": "text/x-python",
   "name": "python",
   "nbconvert_exporter": "python",
   "pygments_lexer": "ipython3",
   "version": "3.7.0"
  }
 },
 "nbformat": 4,
 "nbformat_minor": 5
}
