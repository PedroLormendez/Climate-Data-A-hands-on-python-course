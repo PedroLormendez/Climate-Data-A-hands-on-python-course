{
 "cells": [
  {
   "cell_type": "markdown",
   "id": "c88b1776",
   "metadata": {},
   "source": [
    "# Climate Data – A hands-on python course\n",
    "Author: Pedro Herrera Lormendez (pedrolormendez@gmail.com)"
   ]
  },
  {
   "cell_type": "markdown",
   "id": "a25de118",
   "metadata": {},
   "source": [
    "## Time series and 2D visualization"
   ]
  },
  {
   "cell_type": "markdown",
   "id": "4201d578",
   "metadata": {},
   "source": [
    "### Importing the neccessary modules"
   ]
  },
  {
   "cell_type": "code",
   "execution_count": 8,
   "id": "92e016e3",
   "metadata": {},
   "outputs": [],
   "source": [
    "import sys\n",
    "import os\n",
    "import numpy as np\n",
    "import pandas as pd\n",
    "import matplotlib.pyplot as plt\n",
    "import xarray as xr\n",
    "import cartopy.crs as ccrs\n",
    "sys.path.append(os.path.abspath('../help_code'))\n",
    "import tools"
   ]
  },
  {
   "cell_type": "markdown",
   "id": "0531e72a",
   "metadata": {},
   "source": [
    "### Reading the netcdf file"
   ]
  },
  {
   "cell_type": "markdown",
   "id": "003ce317",
   "metadata": {},
   "source": [
    "Using the monthly Global surface temperature data: GISTEMP: NASA Goddard Institute for Space Studies (GISS) Surface Temperature Analys: https://climatedataguide.ucar.edu/climate-data/global-surface-temperature-data-gistemp-nasa-goddard-institute-space-studies-giss\n",
    "- Download the dataset: https://downloads.psl.noaa.gov/Datasets/gistemp/combined/250km/air.2x2.250.mon.anom.comb.nc\n",
    "- Save it in the \"data\" folder\n",
    "\n",
    "Or [Download it here](https://drive.google.com/file/d/1-8AETmU_FBGriQgnBLHrJXPpsIJ7YM0m/view?usp=sharing)"
   ]
  },
  {
   "cell_type": "code",
   "execution_count": 1,
   "id": "c1fbfb97",
   "metadata": {},
   "outputs": [],
   "source": [
    "# Definging the file path\n",
    "# Reading the netcdf file using xarray\n",
    "# Fixing the longitude coordinates\n"
   ]
  },
  {
   "cell_type": "markdown",
   "id": "b89e0910",
   "metadata": {},
   "source": [
    "### Timeseries"
   ]
  },
  {
   "cell_type": "markdown",
   "id": "87740ac9",
   "metadata": {},
   "source": [
    "#### Extracting the spatial mean\n",
    "Extracting the temperature variable (air) and computing the spatial (lat, lon) mean value of the data."
   ]
  },
  {
   "cell_type": "code",
   "execution_count": 4,
   "id": "138d1a2a",
   "metadata": {
    "scrolled": true
   },
   "outputs": [],
   "source": [
    "# Extracting the t2m variable\n",
    "# Computing the spatial mean\n"
   ]
  },
  {
   "cell_type": "markdown",
   "id": "a19d4809",
   "metadata": {},
   "source": [
    "#### Using matplotlib to plot the data"
   ]
  },
  {
   "cell_type": "code",
   "execution_count": null,
   "id": "579cbdf7",
   "metadata": {},
   "outputs": [],
   "source": []
  },
  {
   "cell_type": "markdown",
   "id": "e7cc9cc2",
   "metadata": {},
   "source": [
    "#### Smoothing\n",
    "Smothing help us to visually detect patterns and trends to see a clearer signal in a timeseries. A very conventional method is the moving average. The 'moving average' refers to the process where, at any given moment, we calculate the (potentially weighted) averages of values in proximity to a specific point in time. For example, a moving average  at time _t_ with a window of 3, would imply the average of _t - 1_, _t_ and _t + 1_ \n",
    "[DataArray.rolling().mean()](https://docs.xarray.dev/en/stable/generated/xarray.DataArray.rolling.html)"
   ]
  },
  {
   "cell_type": "code",
   "execution_count": 5,
   "id": "e54c3d74",
   "metadata": {},
   "outputs": [],
   "source": [
    "# Smothing seasonal variations using a 1-year moving average\n",
    "# Computing the 12-mothly moving average\n"
   ]
  },
  {
   "cell_type": "markdown",
   "id": "bf5dfd0b",
   "metadata": {},
   "source": [
    "<div style=\"background-color:lightgreen; padding:10px\">\n",
    "\n",
    "A 30-year moving average helps in understanding long-term climatic trends. It helps to reveal long-term trends in the data. It smooths out short-term variations, including annual and inter-annual fluctuations, making it easier to observe underlying patterns and trends that unfold over multiple decades.\n",
    "        <ul>\n",
    "        <li>Compute the 30-year moving average. Make sure it is centered.</li>\n",
    "        <li>Plot tthe 30-year moving average on top of the figure below</li>\n",
    "            <li>Add color and appropiate label to the new lineplot</li>\n",
    "    </ul>\n",
    "</div>"
   ]
  },
  {
   "cell_type": "code",
   "execution_count": 162,
   "id": "3c6d05f0",
   "metadata": {},
   "outputs": [],
   "source": [
    "# Your code to compute the 30-year moving average goes here"
   ]
  },
  {
   "cell_type": "code",
   "execution_count": null,
   "id": "9ab9a61e",
   "metadata": {},
   "outputs": [],
   "source": []
  },
  {
   "cell_type": "markdown",
   "id": "6523c454",
   "metadata": {},
   "source": [
    "#### Trend analysis\n",
    "Linear regression analysis is a statistical method used to model the relationship between a dependent variable and one or more independent variables by fitting a linear equation to the observed data.\n",
    "\n",
    "$Y = mx + b$\n",
    "\n",
    "Using Scipy linregress function [scipy.stats.linregress()](https://docs.scipy.org/doc/scipy/reference/generated/scipy.stats.linregress.html)"
   ]
  },
  {
   "cell_type": "code",
   "execution_count": null,
   "id": "9ac2ebc8",
   "metadata": {
    "scrolled": true
   },
   "outputs": [],
   "source": []
  },
  {
   "cell_type": "markdown",
   "id": "ebaeb967",
   "metadata": {},
   "source": [
    "##### Plotting the linear trend\n",
    "<div style=\"background-color:lightgreen; padding:10px\">\n",
    "        <li>Plot the linear trend line</li>\n",
    "        <li>Add appropiate labels</li>\n",
    "</div>"
   ]
  },
  {
   "cell_type": "code",
   "execution_count": null,
   "id": "401b3519",
   "metadata": {},
   "outputs": [],
   "source": []
  },
  {
   "cell_type": "markdown",
   "id": "e97de098",
   "metadata": {},
   "source": [
    "### 2D visualization\n",
    "Matplotlib and Cartopy allows us to plot 2D and 3D geoespatial data over a map. 2D maps require two dimensions (x and y), usually latititude and longitude, in order to be plotted over a map."
   ]
  },
  {
   "cell_type": "markdown",
   "id": "88272b82",
   "metadata": {},
   "source": [
    "#### Extracting a 2D DataArray"
   ]
  },
  {
   "cell_type": "code",
   "execution_count": null,
   "id": "93310279",
   "metadata": {},
   "outputs": [],
   "source": []
  },
  {
   "cell_type": "code",
   "execution_count": 6,
   "id": "4a5183f7",
   "metadata": {},
   "outputs": [],
   "source": [
    "# Extracting a 2D DataArray from the t2m variable\n"
   ]
  },
  {
   "cell_type": "code",
   "execution_count": null,
   "id": "276f1eae",
   "metadata": {},
   "outputs": [],
   "source": []
  },
  {
   "cell_type": "markdown",
   "id": "0e8fa97c",
   "metadata": {},
   "source": [
    "#### Plotting the 2D data with cartopy and matplotlib\n",
    "- Colormaps: https://matplotlib.org/stable/users/explain/colors/colormaps.html\n",
    "- Plotting gridded data with matplotlib: https://matplotlib.org/stable/plot_types/arrays/index.html"
   ]
  },
  {
   "cell_type": "code",
   "execution_count": null,
   "id": "0072ccf0",
   "metadata": {
    "scrolled": true
   },
   "outputs": [],
   "source": []
  },
  {
   "cell_type": "markdown",
   "id": "12e056ff",
   "metadata": {},
   "source": [
    "#### Plotting over a smaller region\n",
    "Using ```ax.set_extent([west, east, south, north])```"
   ]
  },
  {
   "cell_type": "code",
   "execution_count": 186,
   "id": "9187e073",
   "metadata": {},
   "outputs": [],
   "source": [
    "# Run if issues appear related to shapely\n",
    "# !pip install --upgrade cartopy shapely"
   ]
  },
  {
   "cell_type": "code",
   "execution_count": null,
   "id": "7b96b5b7",
   "metadata": {},
   "outputs": [],
   "source": []
  },
  {
   "cell_type": "markdown",
   "id": "4728f2b2",
   "metadata": {},
   "source": [
    "#### Other map projections\n",
    "- List of map projections: https://scitools.org.uk/cartopy/docs/v0.15/crs/projections.html"
   ]
  },
  {
   "cell_type": "code",
   "execution_count": null,
   "id": "1a06de02",
   "metadata": {},
   "outputs": [],
   "source": []
  },
  {
   "cell_type": "code",
   "execution_count": null,
   "id": "c5662afb",
   "metadata": {},
   "outputs": [],
   "source": []
  }
 ],
 "metadata": {
  "kernelspec": {
   "display_name": "Python 3 (ipykernel)",
   "language": "python",
   "name": "python3"
  },
  "language_info": {
   "codemirror_mode": {
    "name": "ipython",
    "version": 3
   },
   "file_extension": ".py",
   "mimetype": "text/x-python",
   "name": "python",
   "nbconvert_exporter": "python",
   "pygments_lexer": "ipython3",
   "version": "3.7.0"
  }
 },
 "nbformat": 4,
 "nbformat_minor": 5
}
