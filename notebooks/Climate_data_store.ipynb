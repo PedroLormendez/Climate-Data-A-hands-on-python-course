{
 "cells": [
  {
   "cell_type": "markdown",
   "id": "1e55f23d",
   "metadata": {},
   "source": [
    "# Climate Data – A hands-on python course\n",
    "Author: Pedro Herrera Lormendez (pedrolormendez@gmail.com)"
   ]
  },
  {
   "cell_type": "markdown",
   "id": "0e127424",
   "metadata": {},
   "source": [
    "## [Climate Data Store (CDS)](https://cds.climate.copernicus.eu/cdsapp#!/home)\n",
    "The Climate Data Store (CDS) of Copernicus, operated by the European Centre for Medium-Range Weather Forecasts (ECMWF), is a comprehensive source for climate data. It is a key component of the Copernicus Climate Change Service (C3S), which is one of the services provided by the Copernicus Programme, a European Union initiative dedicated to monitoring the Earth and its environment.\n",
    "\n",
    "Datasets of interest:\n",
    "* [ERA5 Reanalysis hourly surface data (single levels)](https://cds.climate.copernicus.eu/cdsapp#!/dataset/reanalysis-era5-single-levels?tab=overview)\n",
    "* [ERA5 Reanalysis hourly pressure levels data](https://cds.climate.copernicus.eu/cdsapp#!/dataset/reanalysis-era5-pressure-levels?tab=overview)\n",
    "* [ERA5 Reanalysis monthly surface data](https://cds.climate.copernicus.eu/cdsapp#!/dataset/reanalysis-era5-single-levels-monthly-means?tab=overview)\n",
    "* [ERA5 Reanalysis monthly pressure levels data](https://cds.climate.copernicus.eu/cdsapp#!/dataset/reanalysis-era5-pressure-levels-monthly-means?tab=overview)\n",
    "* [Climate projections IPCC AR6 Interactive Atlas (CMIP5, CMIP6 and CORDEX](https://cds.climate.copernicus.eu/cdsapp#!/dataset/projections-climate-atlas?tab=form)\n",
    "* [CMIP6 Global Climate Models](https://cds.climate.copernicus.eu/cdsapp#!/dataset/projections-cmip6?tab=overview)\n",
    "\n",
    "There are two ways for accessing and downloading data from the Climate Data Store.\n",
    "1. Directly in the website. The data can be downloaded in .grib or .nc format.\n",
    "2. Using the API Key and running some python code ([more info](https://cds.climate.copernicus.eu/api-how-to)). "
   ]
  },
  {
   "cell_type": "markdown",
   "id": "7f43834b",
   "metadata": {},
   "source": [
    "#### Practice time 💻\n",
    "<div style=\"background-color:lightgreen; padding:10px\">\n",
    "    Explore the ERA5 monthly surface data and submit a request to download the following data:.\n",
    "    <ul>\n",
    "        <li>2 metre temperature</li>\n",
    "        <li>Years 1940 to 2022</li>\n",
    "        <li>All months</li>\n",
    "        <li>Whole region</li>\n",
    "        <li>Netcdf format</li>        \n",
    "    </ul>\n",
    "</div>"
   ]
  },
  {
   "cell_type": "markdown",
   "id": "0b06420c",
   "metadata": {},
   "source": [
    "The data can also be downloaded by using the API request. This implies running some python code to retrieve the data. Note that you should have already registered and installed the CDS API key in your PC."
   ]
  },
  {
   "cell_type": "markdown",
   "id": "bb67396e",
   "metadata": {},
   "source": [
    "### CDS API request code"
   ]
  },
  {
   "cell_type": "code",
   "execution_count": 1,
   "id": "412526d2",
   "metadata": {},
   "outputs": [
    {
     "name": "stderr",
     "output_type": "stream",
     "text": [
      "2024-01-09 17:18:46,701 INFO Welcome to the CDS\n",
      "2024-01-09 17:18:46,703 INFO Sending request to https://cds.climate.copernicus.eu/api/v2/resources/reanalysis-era5-single-levels-monthly-means\n",
      "2024-01-09 17:18:46,802 INFO Request is queued\n",
      "2024-01-09 17:42:07,692 WARNING Recovering from connection error [HTTPSConnectionPool(host='cds.climate.copernicus.eu', port=443): Read timed out. (read timeout=60)], attemps 0 of 500\n",
      "2024-01-09 17:42:07,696 WARNING Retrying in 120 seconds\n",
      "2024-01-09 17:44:07,703 INFO Retrying now...\n",
      "2024-01-09 18:58:25,275 INFO Request is running\n",
      "2024-01-09 19:20:30,674 INFO Request is failed\n",
      "2024-01-09 19:20:30,678 ERROR Message: the request you have submitted is not valid\n",
      "2024-01-09 19:20:30,679 ERROR Reason:  wmo_read_any_from_file: error -11 (Input output problem) l=67108864, len=2076588 (Illegal seek); Mars server task finished in error; Double buffer error: Assertion failed: length == buffers_[i].length_ in run, line 282 of /home/cds/git/mars-server/eckit/src/eckit/io/DblBuffer.cc(RemoteException from Connector[mvr0025,marsmvr-0025:49701]) [mars]; Error code is -2; wmo_read_any_from_file: error -11 (Input output problem) l=67108864, len=2076588 (Illegal seek); Mars server task finished in error; Double buffer error: Assertion failed: length == buffers_[i].length_ in run, line 282 of /home/cds/git/mars-server/eckit/src/eckit/io/DblBuffer.cc(RemoteException from Connector[mvr0025,marsmvr-0025:49701]) [mars]; Error code is -2; wmo_read_any_from_file: error -11 (Input output problem) l=67108864, len=2076588 (Illegal seek); Mars server task finished in error; Double buffer error: Assertion failed: length == buffers_[i].length_ in run, line 282 of /home/cds/git/mars-server/eckit/src/eckit/io/DblBuffer.cc(RemoteException from Connector[mvr0025,marsmvr-0025:49701]) [mars]; Error code is -2; wmo_read_any_from_file: error -11 (Input output problem) l=67108864, len=2076588 (Illegal seek); Mars server task finished in error; Double buffer error: Assertion failed: length == buffers_[i].length_ in run, line 282 of /home/cds/git/mars-server/eckit/src/eckit/io/DblBuffer.cc(RemoteException from Connector[mvr0025,marsmvr-0025:49701]) [mars]; Error code is -2; wmo_read_any_from_file: error -11 (Input output problem) l=67108864, len=2076588 (Illegal seek); Mars server task finished in error; Double buffer error: Assertion failed: length == buffers_[i].length_ in run, line 282 of /home/cds/git/mars-server/eckit/src/eckit/io/DblBuffer.cc(RemoteException from Connector[mvr0025,marsmvr-0025:49701]) [mars]; Error code is -2; wmo_read_any_from_file: error -11 (Input output problem) l=67108864, len=2076588 (Illegal seek); Mars server task finished in error; Double buffer error: Assertion failed: length == buffers_[i].length_ in run, line 282 of /home/cds/git/mars-server/eckit/src/eckit/io/DblBuffer.cc(RemoteException from Connector[mvr0025,marsmvr-0025:49701]) [mars]; Error code is -2; Request failed; Some errors reported (last error -2)\n",
      "2024-01-09 19:20:30,680 ERROR   Traceback (most recent call last):\n",
      "2024-01-09 19:20:30,681 ERROR     File \"/opt/cdstoolbox/cdscompute/cdscompute/cdshandlers/services/handler.py\", line 59, in handle_request\n",
      "2024-01-09 19:20:30,683 ERROR       result = cached(context.method, proc, context, context.args, context.kwargs)\n",
      "2024-01-09 19:20:30,684 ERROR     File \"/opt/cdstoolbox/cdscompute/cdscompute/caching.py\", line 108, in cached\n",
      "2024-01-09 19:20:30,685 ERROR       result = proc(context, *context.args, **context.kwargs)\n",
      "2024-01-09 19:20:30,686 ERROR     File \"/opt/cdstoolbox/cdscompute/cdscompute/services.py\", line 124, in __call__\n",
      "2024-01-09 19:20:30,687 ERROR       return p(*args, **kwargs)\n",
      "2024-01-09 19:20:30,690 ERROR     File \"/opt/cdstoolbox/cdscompute/cdscompute/services.py\", line 60, in __call__\n",
      "2024-01-09 19:20:30,692 ERROR       return self.proc(context, *args, **kwargs)\n",
      "2024-01-09 19:20:30,693 ERROR     File \"/home/cds/cdsservices/services/mars/mars.py\", line 48, in internal\n",
      "2024-01-09 19:20:30,694 ERROR       return mars(context, request, **kwargs)\n",
      "2024-01-09 19:20:30,695 ERROR     File \"/home/cds/cdsservices/services/mars/mars.py\", line 20, in mars\n",
      "2024-01-09 19:20:30,696 ERROR       execute_mars(context, requests, info)\n",
      "2024-01-09 19:20:30,697 ERROR     File \"/home/cds/cdsservices/services/mars/execute_mars.py\", line 20, in execute_mars\n",
      "2024-01-09 19:20:30,698 ERROR       exception=MarsException)\n",
      "2024-01-09 19:20:30,699 ERROR     File \"/opt/cdstoolbox/cdscompute/cdscompute/context.py\", line 209, in run_command\n",
      "2024-01-09 19:20:30,699 ERROR       raise exception(call, proc.returncode, output)\n",
      "2024-01-09 19:20:30,700 ERROR   home.cds.cdsservices.services.mars.__init__.py.exceptions.MarsException: wmo_read_any_from_file: error -11 (Input output problem) l=67108864, len=2076588 (Illegal seek); Mars server task finished in error; Double buffer error: Assertion failed: length == buffers_[i].length_ in run, line 282 of /home/cds/git/mars-server/eckit/src/eckit/io/DblBuffer.cc(RemoteException from Connector[mvr0025,marsmvr-0025:49701]) [mars]; Error code is -2; wmo_read_any_from_file: error -11 (Input output problem) l=67108864, len=2076588 (Illegal seek); Mars server task finished in error; Double buffer error: Assertion failed: length == buffers_[i].length_ in run, line 282 of /home/cds/git/mars-server/eckit/src/eckit/io/DblBuffer.cc(RemoteException from Connector[mvr0025,marsmvr-0025:49701]) [mars]; Error code is -2; wmo_read_any_from_file: error -11 (Input output problem) l=67108864, len=2076588 (Illegal seek); Mars server task finished in error; Double buffer error: Assertion failed: length == buffers_[i].length_ in run, line 282 of /home/cds/git/mars-server/eckit/src/eckit/io/DblBuffer.cc(RemoteException from Connector[mvr0025,marsmvr-0025:49701]) [mars]; Error code is -2; wmo_read_any_from_file: error -11 (Input output problem) l=67108864, len=2076588 (Illegal seek); Mars server task finished in error; Double buffer error: Assertion failed: length == buffers_[i].length_ in run, line 282 of /home/cds/git/mars-server/eckit/src/eckit/io/DblBuffer.cc(RemoteException from Connector[mvr0025,marsmvr-0025:49701]) [mars]; Error code is -2; wmo_read_any_from_file: error -11 (Input output problem) l=67108864, len=2076588 (Illegal seek); Mars server task finished in error; Double buffer error: Assertion failed: length == buffers_[i].length_ in run, line 282 of /home/cds/git/mars-server/eckit/src/eckit/io/DblBuffer.cc(RemoteException from Connector[mvr0025,marsmvr-0025:49701]) [mars]; Error code is -2; wmo_read_any_from_file: error -11 (Input output problem) l=67108864, len=2076588 (Illegal seek); Mars server task finished in error; Double buffer error: Assertion failed: length == buffers_[i].length_ in run, line 282 of /home/cds/git/mars-server/eckit/src/eckit/io/DblBuffer.cc(RemoteException from Connector[mvr0025,marsmvr-0025:49701]) [mars]; Error code is -2; Request failed; Some errors reported (last error -2)\n"
     ]
    },
    {
     "ename": "Exception",
     "evalue": "the request you have submitted is not valid. wmo_read_any_from_file: error -11 (Input output problem) l=67108864, len=2076588 (Illegal seek); Mars server task finished in error; Double buffer error: Assertion failed: length == buffers_[i].length_ in run, line 282 of /home/cds/git/mars-server/eckit/src/eckit/io/DblBuffer.cc(RemoteException from Connector[mvr0025,marsmvr-0025:49701]) [mars]; Error code is -2; wmo_read_any_from_file: error -11 (Input output problem) l=67108864, len=2076588 (Illegal seek); Mars server task finished in error; Double buffer error: Assertion failed: length == buffers_[i].length_ in run, line 282 of /home/cds/git/mars-server/eckit/src/eckit/io/DblBuffer.cc(RemoteException from Connector[mvr0025,marsmvr-0025:49701]) [mars]; Error code is -2; wmo_read_any_from_file: error -11 (Input output problem) l=67108864, len=2076588 (Illegal seek); Mars server task finished in error; Double buffer error: Assertion failed: length == buffers_[i].length_ in run, line 282 of /home/cds/git/mars-server/eckit/src/eckit/io/DblBuffer.cc(RemoteException from Connector[mvr0025,marsmvr-0025:49701]) [mars]; Error code is -2; wmo_read_any_from_file: error -11 (Input output problem) l=67108864, len=2076588 (Illegal seek); Mars server task finished in error; Double buffer error: Assertion failed: length == buffers_[i].length_ in run, line 282 of /home/cds/git/mars-server/eckit/src/eckit/io/DblBuffer.cc(RemoteException from Connector[mvr0025,marsmvr-0025:49701]) [mars]; Error code is -2; wmo_read_any_from_file: error -11 (Input output problem) l=67108864, len=2076588 (Illegal seek); Mars server task finished in error; Double buffer error: Assertion failed: length == buffers_[i].length_ in run, line 282 of /home/cds/git/mars-server/eckit/src/eckit/io/DblBuffer.cc(RemoteException from Connector[mvr0025,marsmvr-0025:49701]) [mars]; Error code is -2; wmo_read_any_from_file: error -11 (Input output problem) l=67108864, len=2076588 (Illegal seek); Mars server task finished in error; Double buffer error: Assertion failed: length == buffers_[i].length_ in run, line 282 of /home/cds/git/mars-server/eckit/src/eckit/io/DblBuffer.cc(RemoteException from Connector[mvr0025,marsmvr-0025:49701]) [mars]; Error code is -2; Request failed; Some errors reported (last error -2).",
     "output_type": "error",
     "traceback": [
      "\u001b[0;31m---------------------------------------------------------------------------\u001b[0m",
      "\u001b[0;31mException\u001b[0m                                 Traceback (most recent call last)",
      "\u001b[0;32m/var/folders/cn/qnt666bd35ngv1wd6gczwq900000gn/T/ipykernel_81167/2054375926.py\u001b[0m in \u001b[0;36m<module>\u001b[0;34m\u001b[0m\n\u001b[1;32m     47\u001b[0m         \u001b[0;34m'format'\u001b[0m\u001b[0;34m:\u001b[0m \u001b[0;34m'netcdf'\u001b[0m\u001b[0;34m,\u001b[0m\u001b[0;34m\u001b[0m\u001b[0m\n\u001b[1;32m     48\u001b[0m     },\n\u001b[0;32m---> 49\u001b[0;31m     'era5_monthly_t2m_1950_2022.nc') # Name of the dataset to save it\n\u001b[0m",
      "\u001b[0;32m~/opt/anaconda3/lib/python3.7/site-packages/cdsapi/api.py\u001b[0m in \u001b[0;36mretrieve\u001b[0;34m(self, name, request, target)\u001b[0m\n\u001b[1;32m    346\u001b[0m \u001b[0;34m\u001b[0m\u001b[0m\n\u001b[1;32m    347\u001b[0m     \u001b[0;32mdef\u001b[0m \u001b[0mretrieve\u001b[0m\u001b[0;34m(\u001b[0m\u001b[0mself\u001b[0m\u001b[0;34m,\u001b[0m \u001b[0mname\u001b[0m\u001b[0;34m,\u001b[0m \u001b[0mrequest\u001b[0m\u001b[0;34m,\u001b[0m \u001b[0mtarget\u001b[0m\u001b[0;34m=\u001b[0m\u001b[0;32mNone\u001b[0m\u001b[0;34m)\u001b[0m\u001b[0;34m:\u001b[0m\u001b[0;34m\u001b[0m\u001b[0m\n\u001b[0;32m--> 348\u001b[0;31m         \u001b[0mresult\u001b[0m \u001b[0;34m=\u001b[0m \u001b[0mself\u001b[0m\u001b[0;34m.\u001b[0m\u001b[0m_api\u001b[0m\u001b[0;34m(\u001b[0m\u001b[0;34m\"%s/resources/%s\"\u001b[0m \u001b[0;34m%\u001b[0m \u001b[0;34m(\u001b[0m\u001b[0mself\u001b[0m\u001b[0;34m.\u001b[0m\u001b[0murl\u001b[0m\u001b[0;34m,\u001b[0m \u001b[0mname\u001b[0m\u001b[0;34m)\u001b[0m\u001b[0;34m,\u001b[0m \u001b[0mrequest\u001b[0m\u001b[0;34m,\u001b[0m \u001b[0;34m\"POST\"\u001b[0m\u001b[0;34m)\u001b[0m\u001b[0;34m\u001b[0m\u001b[0m\n\u001b[0m\u001b[1;32m    349\u001b[0m         \u001b[0;32mif\u001b[0m \u001b[0mtarget\u001b[0m \u001b[0;32mis\u001b[0m \u001b[0;32mnot\u001b[0m \u001b[0;32mNone\u001b[0m\u001b[0;34m:\u001b[0m\u001b[0;34m\u001b[0m\u001b[0m\n\u001b[1;32m    350\u001b[0m             \u001b[0mresult\u001b[0m\u001b[0;34m.\u001b[0m\u001b[0mdownload\u001b[0m\u001b[0;34m(\u001b[0m\u001b[0mtarget\u001b[0m\u001b[0;34m)\u001b[0m\u001b[0;34m\u001b[0m\u001b[0m\n",
      "\u001b[0;32m~/opt/anaconda3/lib/python3.7/site-packages/cdsapi/api.py\u001b[0m in \u001b[0;36m_api\u001b[0;34m(self, url, request, method)\u001b[0m\n\u001b[1;32m    506\u001b[0m                 raise Exception(\n\u001b[1;32m    507\u001b[0m                     \u001b[0;34m\"%s. %s.\"\u001b[0m\u001b[0;34m\u001b[0m\u001b[0m\n\u001b[0;32m--> 508\u001b[0;31m                     \u001b[0;34m%\u001b[0m \u001b[0;34m(\u001b[0m\u001b[0mreply\u001b[0m\u001b[0;34m[\u001b[0m\u001b[0;34m\"error\"\u001b[0m\u001b[0;34m]\u001b[0m\u001b[0;34m.\u001b[0m\u001b[0mget\u001b[0m\u001b[0;34m(\u001b[0m\u001b[0;34m\"message\"\u001b[0m\u001b[0;34m)\u001b[0m\u001b[0;34m,\u001b[0m \u001b[0mreply\u001b[0m\u001b[0;34m[\u001b[0m\u001b[0;34m\"error\"\u001b[0m\u001b[0;34m]\u001b[0m\u001b[0;34m.\u001b[0m\u001b[0mget\u001b[0m\u001b[0;34m(\u001b[0m\u001b[0;34m\"reason\"\u001b[0m\u001b[0;34m)\u001b[0m\u001b[0;34m)\u001b[0m\u001b[0;34m\u001b[0m\u001b[0m\n\u001b[0m\u001b[1;32m    509\u001b[0m                 )\n\u001b[1;32m    510\u001b[0m \u001b[0;34m\u001b[0m\u001b[0m\n",
      "\u001b[0;31mException\u001b[0m: the request you have submitted is not valid. wmo_read_any_from_file: error -11 (Input output problem) l=67108864, len=2076588 (Illegal seek); Mars server task finished in error; Double buffer error: Assertion failed: length == buffers_[i].length_ in run, line 282 of /home/cds/git/mars-server/eckit/src/eckit/io/DblBuffer.cc(RemoteException from Connector[mvr0025,marsmvr-0025:49701]) [mars]; Error code is -2; wmo_read_any_from_file: error -11 (Input output problem) l=67108864, len=2076588 (Illegal seek); Mars server task finished in error; Double buffer error: Assertion failed: length == buffers_[i].length_ in run, line 282 of /home/cds/git/mars-server/eckit/src/eckit/io/DblBuffer.cc(RemoteException from Connector[mvr0025,marsmvr-0025:49701]) [mars]; Error code is -2; wmo_read_any_from_file: error -11 (Input output problem) l=67108864, len=2076588 (Illegal seek); Mars server task finished in error; Double buffer error: Assertion failed: length == buffers_[i].length_ in run, line 282 of /home/cds/git/mars-server/eckit/src/eckit/io/DblBuffer.cc(RemoteException from Connector[mvr0025,marsmvr-0025:49701]) [mars]; Error code is -2; wmo_read_any_from_file: error -11 (Input output problem) l=67108864, len=2076588 (Illegal seek); Mars server task finished in error; Double buffer error: Assertion failed: length == buffers_[i].length_ in run, line 282 of /home/cds/git/mars-server/eckit/src/eckit/io/DblBuffer.cc(RemoteException from Connector[mvr0025,marsmvr-0025:49701]) [mars]; Error code is -2; wmo_read_any_from_file: error -11 (Input output problem) l=67108864, len=2076588 (Illegal seek); Mars server task finished in error; Double buffer error: Assertion failed: length == buffers_[i].length_ in run, line 282 of /home/cds/git/mars-server/eckit/src/eckit/io/DblBuffer.cc(RemoteException from Connector[mvr0025,marsmvr-0025:49701]) [mars]; Error code is -2; wmo_read_any_from_file: error -11 (Input output problem) l=67108864, len=2076588 (Illegal seek); Mars server task finished in error; Double buffer error: Assertion failed: length == buffers_[i].length_ in run, line 282 of /home/cds/git/mars-server/eckit/src/eckit/io/DblBuffer.cc(RemoteException from Connector[mvr0025,marsmvr-0025:49701]) [mars]; Error code is -2; Request failed; Some errors reported (last error -2)."
     ]
    }
   ],
   "source": [
    "import cdsapi # Importing the cdsapi library\n",
    "\n",
    "c = cdsapi.Client()\n",
    "\n",
    "c.retrieve(\n",
    "    'reanalysis-era5-single-levels-monthly-means', # Dataset name\n",
    "    {\n",
    "        'product_type': 'monthly_averaged_reanalysis',\n",
    "        'variable': '2m_temperature', # variable\n",
    "        'year': [\n",
    "            '1940', '1941', '1942',\n",
    "            '1943', '1944', '1945',\n",
    "            '1946', '1947', '1948',\n",
    "            '1949', '1950', '1951',\n",
    "            '1952', '1953', '1954',\n",
    "            '1955', '1956', '1957',\n",
    "            '1958', '1959', '1960',\n",
    "            '1961', '1962', '1963',\n",
    "            '1964', '1965', '1966',\n",
    "            '1967', '1968', '1969',\n",
    "            '1970', '1971', '1972',\n",
    "            '1973', '1974', '1975',\n",
    "            '1976', '1977', '1978',\n",
    "            '1979', '1980', '1981',\n",
    "            '1982', '1983', '1984',\n",
    "            '1985', '1986', '1987',\n",
    "            '1988', '1989', '1990',\n",
    "            '1991', '1992', '1993',\n",
    "            '1994', '1995', '1996',\n",
    "            '1997', '1998', '1999',\n",
    "            '2000', '2001', '2002',\n",
    "            '2003', '2004', '2005',\n",
    "            '2006', '2007', '2008',\n",
    "            '2009', '2010', '2011',\n",
    "            '2012', '2013', '2014',\n",
    "            '2015', '2016', '2017',\n",
    "            '2018', '2019', '2020',\n",
    "            '2021', '2022',\n",
    "        ],\n",
    "        'month': [\n",
    "            '01', '02', '03',\n",
    "            '04', '05', '06',\n",
    "            '07', '08', '09',\n",
    "            '10', '11', '12',\n",
    "        ],\n",
    "        'time': '00:00',\n",
    "        'format': 'netcdf',\n",
    "    },\n",
    "    'era5_monthly_t2m_1950_2022.nc') # Name of the dataset to save it"
   ]
  },
  {
   "cell_type": "code",
   "execution_count": null,
   "id": "1ad61eeb",
   "metadata": {},
   "outputs": [],
   "source": []
  }
 ],
 "metadata": {
  "kernelspec": {
   "display_name": "Python 3 (ipykernel)",
   "language": "python",
   "name": "python3"
  },
  "language_info": {
   "codemirror_mode": {
    "name": "ipython",
    "version": 3
   },
   "file_extension": ".py",
   "mimetype": "text/x-python",
   "name": "python",
   "nbconvert_exporter": "python",
   "pygments_lexer": "ipython3",
   "version": "3.7.0"
  }
 },
 "nbformat": 4,
 "nbformat_minor": 5
}
