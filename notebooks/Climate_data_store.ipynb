{
 "cells": [
  {
   "cell_type": "markdown",
   "id": "cbcc3319",
   "metadata": {},
   "source": [
    "# Climate Data – A hands-on python course\n",
    "Author: Pedro Herrera Lormendez (pedrolormendez@gmail.com)"
   ]
  },
  {
   "cell_type": "markdown",
   "id": "b2fddcc0",
   "metadata": {},
   "source": [
    "## [Climate Data Store (CDS)](https://cds.climate.copernicus.eu/cdsapp#!/home)\n",
    "The Climate Data Store (CDS) of Copernicus, operated by the European Centre for Medium-Range Weather Forecasts (ECMWF), is a comprehensive source for climate data. It is a key component of the Copernicus Climate Change Service (C3S), which is one of the services provided by the Copernicus Programme, a European Union initiative dedicated to monitoring the Earth and its environment.\n",
    "\n",
    "Datasets of interest:\n",
    "* [ERA5 Reanalysis hourly surface data (single levels)](https://cds.climate.copernicus.eu/cdsapp#!/dataset/reanalysis-era5-single-levels?tab=overview)\n",
    "* [ERA5 Reanalysis hourly pressure levels data](https://cds.climate.copernicus.eu/cdsapp#!/dataset/reanalysis-era5-pressure-levels?tab=overview)\n",
    "* [ERA5 Reanalysis monthly surface data](https://cds.climate.copernicus.eu/cdsapp#!/dataset/reanalysis-era5-single-levels-monthly-means?tab=overview)\n",
    "* [ERA5 Reanalysis monthly pressure levels data](https://cds.climate.copernicus.eu/cdsapp#!/dataset/reanalysis-era5-pressure-levels-monthly-means?tab=overview)\n",
    "* [Climate projections IPCC AR6 Interactive Atlas (CMIP5, CMIP6 and CORDEX](https://cds.climate.copernicus.eu/cdsapp#!/dataset/projections-climate-atlas?tab=form)\n",
    "* [CMIP6 Global Climate Models](https://cds.climate.copernicus.eu/cdsapp#!/dataset/projections-cmip6?tab=overview)\n",
    "\n",
    "There are two ways for accessing and downloading data from the Climate Data Store.\n",
    "1. Directly in the website. The data can be downloaded in .grib or .nc format.\n",
    "2. Using the API Key and running some python code ([more info](https://cds.climate.copernicus.eu/api-how-to)). "
   ]
  },
  {
   "cell_type": "markdown",
   "id": "abf49be2",
   "metadata": {},
   "source": [
    "#### Practice time 💻\n",
    "<div style=\"background-color:lightgreen; padding:10px\">\n",
    "    Explore the ERA5 monthly surface data and submit a request to download some data of your choice.\n",
    "</div>"
   ]
  },
  {
   "cell_type": "markdown",
   "id": "d5e0fe2f",
   "metadata": {},
   "source": [
    "The data can also be downloaded by using the API request. This implies running some python code to retrieve the data. Note that you should have already registered and installed the CDS API key in your PC."
   ]
  },
  {
   "cell_type": "markdown",
   "id": "35a93435",
   "metadata": {},
   "source": [
    "### CDS API request code"
   ]
  },
  {
   "cell_type": "code",
   "execution_count": 3,
   "id": "438eb9e1",
   "metadata": {},
   "outputs": [],
   "source": [
    "import cdsapi # Importing the cdsapi library\n",
    "\n",
    "c = cdsapi.Client()\n",
    "\n",
    "c.retrieve(\n",
    "    'reanalysis-era5-single-levels-monthly-means', # Dataset name\n",
    "    {\n",
    "        'product_type': 'monthly_averaged_reanalysis',\n",
    "        'variable': '2m_temperature', # variable\n",
    "        'year': [\n",
    "            '2022',\n",
    "        ],\n",
    "        'month': [\n",
    "            '01', '02', '03',\n",
    "            '04', '05', '06',\n",
    "            '07', '08', '09',\n",
    "            '10', '11', '12',\n",
    "        ],\n",
    "        'time': '00:00',\n",
    "        'format': 'netcdf',\n",
    "    },\n",
    "    'era5_monthly_t2m_2022.nc') # Name of the dataset to save it"
   ]
  },
  {
   "cell_type": "code",
   "execution_count": null,
   "id": "6dbefc29",
   "metadata": {},
   "outputs": [],
   "source": []
  }
 ],
 "metadata": {
  "kernelspec": {
   "display_name": "Python 3 (ipykernel)",
   "language": "python",
   "name": "python3"
  },
  "language_info": {
   "codemirror_mode": {
    "name": "ipython",
    "version": 3
   },
   "file_extension": ".py",
   "mimetype": "text/x-python",
   "name": "python",
   "nbconvert_exporter": "python",
   "pygments_lexer": "ipython3",
   "version": "3.7.0"
  }
 },
 "nbformat": 4,
 "nbformat_minor": 5
}
